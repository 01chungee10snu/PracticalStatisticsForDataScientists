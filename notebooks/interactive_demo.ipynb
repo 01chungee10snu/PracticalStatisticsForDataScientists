{
  "cells": [
    {
      "cell_type": "markdown",
      "metadata": {},
      "source": [
        "# \uc778\ud130\ub799\ud2f0\ube0c \ub370\ubaa8"
      ]
    },
    {
      "cell_type": "code",
      "metadata": {},
      "execution_count": null,
      "source": [
        "from modules.widgets import create_interactive_demo"
      ],
      "outputs": []
    },
    {
      "cell_type": "code",
      "metadata": {},
      "execution_count": null,
      "source": [
        "create_interactive_demo()"
      ],
      "outputs": []
    },
    {
      "cell_type": "code",
      "metadata": {},
      "execution_count": null,
      "source": [
        "from modules.data_processing import sample_titanic_dataset\n",
        "sample_titanic_dataset(30).head()"
      ],
      "outputs": []
    }
  ],
  "metadata": {
    "kernelspec": {
      "name": "python3",
      "display_name": "Python 3"
    },
    "language_info": {
      "name": "python",
      "pygments_lexer": "ipython3"
    }
  },
  "nbformat": 4,
  "nbformat_minor": 2
}
